{
  "nbformat": 4,
  "nbformat_minor": 0,
  "metadata": {
    "colab": {
      "name": "1dlfck_1cktl.ipynb",
      "provenance": [],
      "authorship_tag": "ABX9TyMaQpjbx0tVfoqGRu0aovGk",
      "include_colab_link": true
    },
    "kernelspec": {
      "name": "python3",
      "display_name": "Python 3"
    }
  },
  "cells": [
    {
      "cell_type": "markdown",
      "metadata": {
        "id": "view-in-github",
        "colab_type": "text"
      },
      "source": [
        "<a href=\"https://colab.research.google.com/github/darkhork/Python/blob/master/1%EC%9D%BC%EC%B0%A8_1%EC%B0%A8%EC%8B%9C.ipynb\" target=\"_parent\"><img src=\"https://colab.research.google.com/assets/colab-badge.svg\" alt=\"Open In Colab\"/></a>"
      ]
    },
    {
      "cell_type": "code",
      "metadata": {
        "id": "Bfl7DVFT2fhu",
        "colab_type": "code",
        "colab": {}
      },
      "source": [
        ""
      ],
      "execution_count": 0,
      "outputs": []
    },
    {
      "cell_type": "markdown",
      "metadata": {
        "id": "O2xo8KV13z61",
        "colab_type": "text"
      },
      "source": [
        "오늘은 **1일차 1교시** 출력문 작성내용입니다.\n",
        "\n",
        "오늘의 학습목표\n",
        "\n",
        "  1.개발환경 설치\n",
        " 2. 출력문 작성"
      ]
    },
    {
      "cell_type": "markdown",
      "metadata": {
        "id": "A4d5MTB14gji",
        "colab_type": "text"
      },
      "source": [
        "사칙연산\n",
        "\n",
        "---\n",
        "# + , - , * , ** , / , // , %\n",
        "---"
      ]
    },
    {
      "cell_type": "code",
      "metadata": {
        "id": "suG0yyI54tgb",
        "colab_type": "code",
        "colab": {
          "base_uri": "https://localhost:8080/",
          "height": 187
        },
        "outputId": "a726ad5a-b908-454c-c213-486132570f16"
      },
      "source": [
        "a=3\n",
        "b=2\n",
        "print('a =',a)\n",
        "print('b =',b)\n",
        "print('a+b =',a+b)\n",
        "print('a-b =',a-b)\n",
        "print('a*b =',a*b)\n",
        "print('a**b =',a*b)\n",
        "print('a/b =',a/b)\n",
        "print('a//b =',a//b)\n",
        "print('a%b =',a%b)\n"
      ],
      "execution_count": 10,
      "outputs": [
        {
          "output_type": "stream",
          "text": [
            "a = 3\n",
            "b = 2\n",
            "a+b = 5\n",
            "a-b = 1\n",
            "a*b = 6\n",
            "a**b = 6\n",
            "a/b = 1.5\n",
            "a//b = 1\n",
            "a%b = 1\n"
          ],
          "name": "stdout"
        }
      ]
    }
  ]
}
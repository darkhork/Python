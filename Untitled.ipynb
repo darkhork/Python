{
 "cells": [
  {
   "cell_type": "code",
   "execution_count": 5,
   "metadata": {
    "scrolled": true
   },
   "outputs": [
    {
     "name": "stdout",
     "output_type": "stream",
     "text": [
      "\n",
      "\n",
      "*\n",
      "\n",
      "**\n",
      "\n",
      "***\n",
      "\n",
      "****\n",
      "\n"
     ]
    }
   ],
   "source": [
    "for i in range(5):\n",
    "    for j in range(i):\n",
    "        print('*',end='')\n",
    "    print(\"\\n\")"
   ]
  },
  {
   "cell_type": "code",
   "execution_count": 7,
   "metadata": {},
   "outputs": [
    {
     "name": "stdout",
     "output_type": "stream",
     "text": [
      "5\n",
      "\n",
      "54\n",
      "\n",
      "543\n",
      "\n",
      "5432\n",
      "\n",
      "54321\n",
      "\n"
     ]
    }
   ],
   "source": [
    "for i in range(4,-1,-1):\n",
    "    for j in range(5,i,-1):\n",
    "        print(j,end='')\n",
    "    print(\"\\n\")"
   ]
  },
  {
   "cell_type": "code",
   "execution_count": 31,
   "metadata": {},
   "outputs": [
    {
     "name": "stdout",
     "output_type": "stream",
     "text": [
      "    1\n",
      "   123\n",
      "  12345\n",
      " 1234567\n",
      "123456789\n"
     ]
    }
   ],
   "source": [
    "for i in range(0,5,+1):\n",
    "    for j in range(0,4-i,1):\n",
    "        print(\" \" ,end='')\n",
    "    for j in range(0,i*2+1,+1):\n",
    "        print(j+1,end='')\n",
    "    print('')\n",
    "    "
   ]
  },
  {
   "cell_type": "code",
   "execution_count": null,
   "metadata": {},
   "outputs": [],
   "source": []
  }
 ],
 "metadata": {
  "kernelspec": {
   "display_name": "Python 3",
   "language": "python",
   "name": "python3"
  },
  "language_info": {
   "codemirror_mode": {
    "name": "ipython",
    "version": 3
   },
   "file_extension": ".py",
   "mimetype": "text/x-python",
   "name": "python",
   "nbconvert_exporter": "python",
   "pygments_lexer": "ipython3",
   "version": "3.7.4"
  }
 },
 "nbformat": 4,
 "nbformat_minor": 2
}
